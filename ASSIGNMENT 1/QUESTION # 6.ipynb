{
 "cells": [
  {
   "cell_type": "code",
   "execution_count": 1,
   "metadata": {},
   "outputs": [
    {
     "name": "stdout",
     "output_type": "stream",
     "text": [
      "******************AOA , WELCOME TO OUR PROGRAM************************* \n",
      " OUR PROGRAM WILL ADD TWO NUMBERS OUR YOUR DESIRED CHOICE ! SO HERE WE GO \n",
      "PLEASE ENTER YOUR FIRST NUMBER 56\n",
      "PLEASE ENTER YOUR LAST NUMBER 67\n",
      "SUM OF TWO NUMBERS IS *****= 123\n",
      " THANKU FOR USING OUR PROGRAM \n"
     ]
    }
   ],
   "source": [
    "print(\"******************AOA , WELCOME TO OUR PROGRAM************************* \")\n",
    "print(\" OUR PROGRAM WILL ADD TWO NUMBERS OUR YOUR DESIRED CHOICE ! SO HERE WE GO \")\n",
    "first_number = int(input (\"PLEASE ENTER YOUR FIRST NUMBER \"))\n",
    "second_number = int(input(\"PLEASE ENTER YOUR LAST NUMBER \"))\n",
    "sum = first_number + second_number\n",
    "print(\"SUM OF TWO NUMBERS IS *****=\",sum)\n",
    "print(\" THANKU FOR USING OUR PROGRAM \")"
   ]
  },
  {
   "cell_type": "code",
   "execution_count": null,
   "metadata": {},
   "outputs": [],
   "source": []
  }
 ],
 "metadata": {
  "kernelspec": {
   "display_name": "Python 3",
   "language": "python",
   "name": "python3"
  },
  "language_info": {
   "codemirror_mode": {
    "name": "ipython",
    "version": 3
   },
   "file_extension": ".py",
   "mimetype": "text/x-python",
   "name": "python",
   "nbconvert_exporter": "python",
   "pygments_lexer": "ipython3",
   "version": "3.7.4"
  }
 },
 "nbformat": 4,
 "nbformat_minor": 2
}
