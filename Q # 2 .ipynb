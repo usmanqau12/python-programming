{
 "cells": [
  {
   "cell_type": "code",
   "execution_count": 6,
   "metadata": {},
   "outputs": [
    {
     "name": "stdout",
     "output_type": "stream",
     "text": [
      "********AOA, AND WELCOME TO OUR PYTHON VERSION PROGRAM***********\n",
      "********OUR PROGRAM WILL DISPLAY CURRENT MOST PYTHON VERSION***********\n",
      "3.7.4 (default, Aug  9 2019, 18:34:13) [MSC v.1915 64 bit (AMD64)]\n",
      "********THANKU FOR USING OUR PROGRAM***********\n"
     ]
    }
   ],
   "source": [
    "print(\"********AOA, AND WELCOME TO OUR PYTHON VERSION PROGRAM***********\")\n",
    "print(\"********OUR PROGRAM WILL DISPLAY CURRENT MOST PYTHON VERSION***********\")\n",
    "py_version= sys.version\n",
    "print(py_version)\n",
    "print(\"********THANKU FOR USING OUR PROGRAM***********\")"
   ]
  },
  {
   "cell_type": "code",
   "execution_count": null,
   "metadata": {},
   "outputs": [],
   "source": []
  }
 ],
 "metadata": {
  "kernelspec": {
   "display_name": "Python 3",
   "language": "python",
   "name": "python3"
  },
  "language_info": {
   "codemirror_mode": {
    "name": "ipython",
    "version": 3
   },
   "file_extension": ".py",
   "mimetype": "text/x-python",
   "name": "python",
   "nbconvert_exporter": "python",
   "pygments_lexer": "ipython3",
   "version": "3.7.4"
  }
 },
 "nbformat": 4,
 "nbformat_minor": 2
}
