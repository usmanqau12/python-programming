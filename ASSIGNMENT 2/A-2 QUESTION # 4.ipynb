{
 "cells": [
  {
   "cell_type": "code",
   "execution_count": 1,
   "metadata": {},
   "outputs": [
    {
     "name": "stdout",
     "output_type": "stream",
     "text": [
      "Sum of all elements in given list:  74\n"
     ]
    }
   ],
   "source": [
    "print(\"******WELCOME TO OUR LIST PRINTIN PROGRAM*******\")\n",
    "total = 0\n",
    "# LIST CREATION \n",
    "no_list = [11, 5, 17, 18, 23]  \n",
    "  \n",
    "# Iterate each element in list \n",
    "# and add them in variale total \n",
    "for ele in range(0, len(no_list)): \n",
    "    total = total + no_list[ele] \n",
    "# now after adding them printing their result \n",
    "print(\"Sum of all elements in given list: \", total)\n",
    "print(\"******WELCOME TO OUR LIST PRINTIN PROGRAM*******\")"
   ]
  },
  {
   "cell_type": "code",
   "execution_count": 2,
   "metadata": {},
   "outputs": [
    {
     "name": "stdout",
     "output_type": "stream",
     "text": [
      "******WELCOME TO OUR LIST PRINTIN PROGRAM*******\n",
      "Sum of all elements in given list:  74\n",
      "****** THANK YOU FOR USING OUR PROGRAM *******\n"
     ]
    }
   ],
   "source": [
    "print(\"******WELCOME TO OUR LIST PRINTIN PROGRAM*******\")\n",
    "total = 0\n",
    "# LIST CREATION \n",
    "no_list = [11, 5, 17, 18, 23]  \n",
    "  \n",
    "# Iterate each element in list \n",
    "# and add them in variale total \n",
    "for ele in range(0, len(no_list)): \n",
    "    total = total + no_list[ele] \n",
    "# now after adding them printing their result \n",
    "print(\"Sum of all elements in given list: \", total)\n",
    "print(\"****** THANK YOU FOR USING OUR PROGRAM *******\")"
   ]
  },
  {
   "cell_type": "code",
   "execution_count": 3,
   "metadata": {},
   "outputs": [
    {
     "name": "stdout",
     "output_type": "stream",
     "text": [
      "******WELCOME TO OUR LIST PRINTIN PROGRAM*******\n",
      "SUM OF ALL ELEMENTS OF LIST ARE ***:  74\n",
      "****** THANK YOU FOR USING OUR PROGRAM *******\n"
     ]
    }
   ],
   "source": [
    "print(\"******WELCOME TO OUR LIST PRINTIN PROGRAM*******\")\n",
    "total = 0\n",
    "# LIST CREATION \n",
    "no_list = [11, 5, 17, 18, 23]  \n",
    "  \n",
    "# Iterate each element in list \n",
    "# and add them in variale total \n",
    "for ele in range(0, len(no_list)): \n",
    "    total = total + no_list[ele] \n",
    "# now after adding them printing their result \n",
    "print(\"SUM OF ALL ELEMENTS OF LIST ARE ***: \", total)\n",
    "print(\"****** THANK YOU FOR USING OUR PROGRAM *******\")"
   ]
  },
  {
   "cell_type": "code",
   "execution_count": 4,
   "metadata": {},
   "outputs": [
    {
     "name": "stdout",
     "output_type": "stream",
     "text": [
      "******WELCOME TO OUR LIST PRINTIN PROGRAM*******\n",
      "*********SUM OF ALL ELEMENTS OF LIST ARE ***:  74\n",
      "****** THANK YOU FOR USING OUR PROGRAM *******\n"
     ]
    }
   ],
   "source": [
    "print(\"******WELCOME TO OUR LIST PRINTIN PROGRAM*******\")\n",
    "total = 0\n",
    "# LIST CREATION \n",
    "no_list = [11, 5, 17, 18, 23]  \n",
    "  \n",
    "# Iterate each element in list \n",
    "# and add them in variale total \n",
    "for ele in range(0, len(no_list)): \n",
    "    total = total + no_list[ele] \n",
    "# now after adding them printing their result \n",
    "print(\"*********SUM OF ALL ELEMENTS OF LIST ARE ***: \", total)\n",
    "print(\"****** THANK YOU FOR USING OUR PROGRAM *******\")"
   ]
  },
  {
   "cell_type": "code",
   "execution_count": null,
   "metadata": {},
   "outputs": [],
   "source": []
  }
 ],
 "metadata": {
  "kernelspec": {
   "display_name": "Python 3",
   "language": "python",
   "name": "python3"
  },
  "language_info": {
   "codemirror_mode": {
    "name": "ipython",
    "version": 3
   },
   "file_extension": ".py",
   "mimetype": "text/x-python",
   "name": "python",
   "nbconvert_exporter": "python",
   "pygments_lexer": "ipython3",
   "version": "3.7.4"
  }
 },
 "nbformat": 4,
 "nbformat_minor": 2
}
