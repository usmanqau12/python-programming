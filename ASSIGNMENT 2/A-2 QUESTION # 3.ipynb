{
 "cells": [
  {
   "cell_type": "code",
   "execution_count": 1,
   "metadata": {},
   "outputs": [
    {
     "name": "stdout",
     "output_type": "stream",
     "text": [
      "******WELCOME TO OUR LENGTH OF LIST **********\n",
      "****The length of list is: ****** 5\n"
     ]
    }
   ],
   "source": [
    "print(\"******WELCOME TO OUR LENGTH OF LIST **********\")\n",
    "no_list = [10,40, 60,80,100]\n",
    "n = len(no_list) \n",
    "print(\"****The length of list is: ******\", n) "
   ]
  },
  {
   "cell_type": "code",
   "execution_count": 2,
   "metadata": {},
   "outputs": [
    {
     "name": "stdout",
     "output_type": "stream",
     "text": [
      "******WELCOME TO OUR LENGTH OF LIST **********\n",
      "****The length of list is: ****** 5\n",
      "****** THANK YOU FOR USING OUR PROGRAM  **********\n"
     ]
    }
   ],
   "source": [
    "print(\"******WELCOME TO OUR LENGTH OF LIST **********\")\n",
    "no_list = [10,40, 60,80,100]\n",
    "n = len(no_list) \n",
    "print(\"****The length of list is: ******\", n) \n",
    "print(\"****** THANK YOU FOR USING OUR PROGRAM  **********\")"
   ]
  },
  {
   "cell_type": "markdown",
   "metadata": {},
   "source": []
  }
 ],
 "metadata": {
  "kernelspec": {
   "display_name": "Python 3",
   "language": "python",
   "name": "python3"
  },
  "language_info": {
   "codemirror_mode": {
    "name": "ipython",
    "version": 3
   },
   "file_extension": ".py",
   "mimetype": "text/x-python",
   "name": "python",
   "nbconvert_exporter": "python",
   "pygments_lexer": "ipython3",
   "version": "3.7.4"
  }
 },
 "nbformat": 4,
 "nbformat_minor": 2
}
