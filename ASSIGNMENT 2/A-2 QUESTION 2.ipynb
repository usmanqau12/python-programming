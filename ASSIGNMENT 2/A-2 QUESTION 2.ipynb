{
 "cells": [
  {
   "cell_type": "code",
   "execution_count": 1,
   "metadata": {},
   "outputs": [
    {
     "name": "stdout",
     "output_type": "stream",
     "text": [
      "******WELCOME TO OUR EVEN AND OFF NUMBER CHEKCING PROGRAM\n",
      "PLEASE ENTER NO OF YOUR CHOICE 6\n",
      "6 is Even\n",
      "******THANK YOU FOR USING OUR PROGRAM********\n"
     ]
    }
   ],
   "source": [
    "print(\"******WELCOME TO OUR EVEN AND OFF NUMBER CHEKCING PROGRAM\")\n",
    "num = int(input(\"PLEASE ENTER NO OF YOUR CHOICE \"))\n",
    "if (num % 2) == 0:\n",
    "   print(\"{0} is Even\".format(num))\n",
    "else:\n",
    "   print(\"{0} is Odd\".format(num))\n",
    "print(\"******THANK YOU FOR USING OUR PROGRAM********\")"
   ]
  },
  {
   "cell_type": "code",
   "execution_count": null,
   "metadata": {},
   "outputs": [],
   "source": []
  }
 ],
 "metadata": {
  "kernelspec": {
   "display_name": "Python 3",
   "language": "python",
   "name": "python3"
  },
  "language_info": {
   "codemirror_mode": {
    "name": "ipython",
    "version": 3
   },
   "file_extension": ".py",
   "mimetype": "text/x-python",
   "name": "python",
   "nbconvert_exporter": "python",
   "pygments_lexer": "ipython3",
   "version": "3.7.4"
  }
 },
 "nbformat": 4,
 "nbformat_minor": 2
}
