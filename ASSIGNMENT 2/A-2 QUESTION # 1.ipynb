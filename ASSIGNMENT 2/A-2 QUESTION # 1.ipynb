{
 "cells": [
  {
   "cell_type": "code",
   "execution_count": 6,
   "metadata": {},
   "outputs": [
    {
     "name": "stdout",
     "output_type": "stream",
     "text": [
      "*****WELCOME TO STUDENT MARKS SHEET PROGRAM********\n",
      "PLEASE ENTER 1. TO USE PROGRAM 2. TO EXIT1\n",
      "Enter marks of the first subject: 30\n",
      "Enter marks of the second subject: 10\n",
      "Enter marks of the third subject: 20\n",
      "Enter marks of the fourth subject: 10\n",
      "Enter marks of the fifth subject: 20\n",
      "YOUR GOT F GRADE, AND YOUR ARE RUSTICATED \n",
      "**** THANK YOU FOR USING OUR PROGRAM ********\n"
     ]
    }
   ],
   "source": [
    "print(\"*****WELCOME TO STUDENT MARKS SHEET PROGRAM********\")\n",
    "choice = input(\"PLEASE ENTER 1. TO USE PROGRAM 2. TO EXIT\")\n",
    "if choice == '1':\n",
    "    sub1=int(input(\"Enter marks of the first subject: \"))\n",
    "    sub2=int(input(\"Enter marks of the second subject: \"))\n",
    "    sub3=int(input(\"Enter marks of the third subject: \"))\n",
    "    sub4=int(input(\"Enter marks of the fourth subject: \"))\n",
    "    sub5=int(input(\"Enter marks of the fifth subject: \"))\n",
    "    avg=int(sub1+sub2+sub3+sub4+sub4)/5\n",
    "    if(avg>=90):\n",
    "        print(\"Grade: A\")\n",
    "    elif(avg>=80)&(avg<90):\n",
    "        print(\"Grade: B\")\n",
    "    elif(avg>=70)&(avg<80):\n",
    "        print(\"Grade: C\")\n",
    "    elif(avg>=60)&(avg<70):\n",
    "        print(\"Grade: D\")\n",
    "    else:\n",
    "        print(\"YOUR GOT F GRADE, AND YOUR ARE RUSTICATED \")\n",
    "else:\n",
    "    print(\"****SORRY YOU DID NOT MAKE THE RIGHT SELECITON*****\")\n",
    "print(\"**** THANK YOU FOR USING OUR PROGRAM ********\")"
   ]
  },
  {
   "cell_type": "code",
   "execution_count": null,
   "metadata": {},
   "outputs": [],
   "source": []
  }
 ],
 "metadata": {
  "kernelspec": {
   "display_name": "Python 3",
   "language": "python",
   "name": "python3"
  },
  "language_info": {
   "codemirror_mode": {
    "name": "ipython",
    "version": 3
   },
   "file_extension": ".py",
   "mimetype": "text/x-python",
   "name": "python",
   "nbconvert_exporter": "python",
   "pygments_lexer": "ipython3",
   "version": "3.7.4"
  }
 },
 "nbformat": 4,
 "nbformat_minor": 2
}
