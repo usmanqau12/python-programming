{
 "cells": [
  {
   "cell_type": "code",
   "execution_count": 1,
   "metadata": {},
   "outputs": [
    {
     "name": "stdout",
     "output_type": "stream",
     "text": [
      "******************AOA , WELCOME TO OUR PROGRAM************************* \n",
      "YOUR WILL GIVE US YOUR NAME AND OUR PROGRAM WILL PRINT IN REVERSE ORDER \n",
      "PLEASE ENTER YOUR FIRST NAMEusman\n",
      "PLEASE ENTER YOUR LAST NAMEawan\n",
      "WELCOME TO PYTHON CLASS , DEAR awan usman\n"
     ]
    }
   ],
   "source": [
    "print(\"******************AOA , WELCOME TO OUR PROGRAM************************* \")\n",
    "print(\"YOUR WILL GIVE US YOUR NAME AND OUR PROGRAM WILL PRINT IN REVERSE ORDER \")\n",
    "first_name = input (\"PLEASE ENTER YOUR FIRST NAME\")\n",
    "last_name = input(\"PLEASE ENTER YOUR LAST NAME\")\n",
    "print(\"WELCOME TO PYTHON CLASS , DEAR\"+  \" \" + last_name +\" \" +first_name)"
   ]
  },
  {
   "cell_type": "code",
   "execution_count": null,
   "metadata": {},
   "outputs": [],
   "source": []
  }
 ],
 "metadata": {
  "kernelspec": {
   "display_name": "Python 3",
   "language": "python",
   "name": "python3"
  },
  "language_info": {
   "codemirror_mode": {
    "name": "ipython",
    "version": 3
   },
   "file_extension": ".py",
   "mimetype": "text/x-python",
   "name": "python",
   "nbconvert_exporter": "python",
   "pygments_lexer": "ipython3",
   "version": "3.7.4"
  }
 },
 "nbformat": 4,
 "nbformat_minor": 2
}
