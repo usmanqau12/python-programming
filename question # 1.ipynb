{
 "cells": [
  {
   "cell_type": "code",
   "execution_count": null,
   "metadata": {},
   "outputs": [],
   "source": [
    "string1 = \"Twinkle, twinkle, little star,\"\n",
    "string2 = \"       How I wonder what you are!\"\n",
    "string3 = \"             Up above the world so high,\"\n",
    "string4 = \"             Like a diamond in the sky\"\n",
    "string5 = \"Twinkle, twinkle, little star,\"\n",
    "string6 = \"       How I wonder what you are\"\n",
    "print(string1)\n",
    "print(string2)\n",
    "print(string3)\n",
    "print(string4)\n",
    "print(string5)\n",
    "print(string6)"
   ]
  }
 ],
 "metadata": {
  "kernelspec": {
   "display_name": "Python 3",
   "language": "python",
   "name": "python3"
  },
  "language_info": {
   "codemirror_mode": {
    "name": "ipython",
    "version": 3
   },
   "file_extension": ".py",
   "mimetype": "text/x-python",
   "name": "python",
   "nbconvert_exporter": "python",
   "pygments_lexer": "ipython3",
   "version": "3.7.4"
  }
 },
 "nbformat": 4,
 "nbformat_minor": 2
}
