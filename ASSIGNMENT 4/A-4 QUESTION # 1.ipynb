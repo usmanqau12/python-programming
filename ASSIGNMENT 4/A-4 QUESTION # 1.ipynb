{
 "cells": [
  {
   "cell_type": "code",
   "execution_count": 10,
   "metadata": {},
   "outputs": [
    {
     "name": "stdout",
     "output_type": "stream",
     "text": [
      " *****************WELCOME TO OUR DICTIONARY SOFTWARE ********************************\n",
      " ************* ENTER 1. TO USE OUR SOFTWARE 2. TO EXIT *********************1\n",
      " ******** YOU ARE AUTHORIED TO USED OUR DICTIONARY **********************\n",
      "{'First_name': 'Usman', 'Last_name': 'Awan', 'Age': '20', 'City': 'Islamabad'}\n",
      "please enter your ssc degree nameA\n",
      "please enter your hssc degree nameS\n",
      "please enter your under graduate degree nameD\n",
      "please enter your master degree nameF\n",
      "please enter your mphil degree name with specializationG\n",
      "please enter your phd degree name with specializationH\n",
      "{'First_name': 'Usman', 'Last_name': 'Awan', 'Age': '20', 'City': 'Islamabad', 'ssc_qaul': 'A', 'hssc_qaul': 'S', 'ug_qaul': 'D', 'mas_qaul': 'F', 'mph_qaul': 'G', 'phd_qaul': 'H'}\n",
      " *********** PLEASE ENTER 1. TO DELTE RECORD 2. TO EXIT ****************1\n",
      "***** ALERT! YOU ARE ABOUT TO DELETE RECORD *****\n",
      " IF AGREE PRESS Y ELSE N Y\n",
      "*****UPDATED RECORD AFTER DELTETION OF QUALIFICATION IS {'First_name': 'Usman', 'Last_name': 'Awan', 'Age': '20', 'City': 'Islamabad'}\n",
      "************** THANK YOU FOR USING OUR SOFTWARE **************************\n"
     ]
    }
   ],
   "source": [
    "print(\" *****************WELCOME TO OUR DICTIONARY SOFTWARE ********************************\")\n",
    "choice = input(\" ************* ENTER 1. TO USE OUR SOFTWARE 2. TO EXIT *********************\")\n",
    "if choice == '1':\n",
    "    print(\" ******** YOU ARE AUTHORIED TO USED OUR DICTIONARY **********************\")\n",
    "    person_data = {\"First_name\":\"Usman\",\n",
    "                   \"Last_name\":\"Awan\",\n",
    "                   \"Age\":\"20\",\n",
    "                   \"City\":\"Islamabad\"}\n",
    "    print(person_data)\n",
    "    person_data[\"ssc_qaul\"] = input(\"please enter your ssc degree name\")\n",
    "    person_data[\"hssc_qaul\"] = input(\"please enter your hssc degree name\")\n",
    "    person_data[\"ug_qaul\"] = input(\"please enter your under graduate degree name\")\n",
    "    person_data[\"mas_qaul\"] = input(\"please enter your master degree name\")\n",
    "    person_data[\"mph_qaul\"] = input(\"please enter your mphil degree name with specialization\")\n",
    "    person_data[\"phd_qaul\"] = input(\"please enter your phd degree name with specialization\")\n",
    "    print(person_data)\n",
    "    choice1 = input(\" *********** PLEASE ENTER 1. TO DELTE RECORD 2. TO EXIT ****************\")\n",
    "    if choice1 == '1':\n",
    "        print(\"***** ALERT! YOU ARE ABOUT TO DELETE RECORD *****\")\n",
    "        choice2 = input(\" IF AGREE PRESS Y ELSE N \")\n",
    "        if choice2 == 'Y':\n",
    "            del person_data[\"ssc_qaul\"]\n",
    "            del person_data[\"hssc_qaul\"]\n",
    "            del person_data[\"ug_qaul\"] \n",
    "            del person_data[\"mas_qaul\"]\n",
    "            del person_data[\"mph_qaul\"]\n",
    "            del person_data[\"phd_qaul\"]\n",
    "        else:\n",
    "            print(\"********SORRY YOU DID NOT PRESS Y*************\")\n",
    "    else:\n",
    "        print(\"*******SORRY YOU CHOOSE TO EXIT WITH DELETION*****\")\n",
    "    print(\"*****UPDATED RECORD AFTER DELTETION OF QUALIFICATION IS\", person_data)\n",
    "else:\n",
    "    print(\"SORRY! YOU ARE NOT AUTHORIZED, PLEASE REGISTER YOURSELF FIRST\")\n",
    "print(\"************** THANK YOU FOR USING OUR SOFTWARE **************************\")"
   ]
  },
  {
   "cell_type": "code",
   "execution_count": null,
   "metadata": {},
   "outputs": [],
   "source": []
  }
 ],
 "metadata": {
  "kernelspec": {
   "display_name": "Python 3",
   "language": "python",
   "name": "python3"
  },
  "language_info": {
   "codemirror_mode": {
    "name": "ipython",
    "version": 3
   },
   "file_extension": ".py",
   "mimetype": "text/x-python",
   "name": "python",
   "nbconvert_exporter": "python",
   "pygments_lexer": "ipython3",
   "version": "3.7.4"
  }
 },
 "nbformat": 4,
 "nbformat_minor": 2
}
