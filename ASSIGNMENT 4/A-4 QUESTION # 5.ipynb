{
 "cells": [
  {
   "cell_type": "code",
   "execution_count": 2,
   "metadata": {},
   "outputs": [
    {
     "name": "stdout",
     "output_type": "stream",
     "text": [
      "type a number for upper bound1\n",
      "lets play !\n",
      "Please type a random no between 1 and 1 :\n",
      "Please try again !\n",
      "Please type a random no between 1 and 1 :\n",
      "Please try again !\n",
      "Please type a random no between 1 and 1 :4\n",
      "Please try again !\n",
      "Please type a random no between 1 and 1 :4\n",
      "Please try again !\n",
      "Please type a random no between 1 and 1 :5\n",
      "Please try again !\n",
      "Please type a random no between 1 and 1 :6\n",
      "Please try again !\n",
      "Please type a random no between 1 and 1 :7\n",
      "Please try again !\n",
      "Please type a random no between 1 and 1 :1\n",
      " you got it !\n",
      "it took you  8 guesses\n"
     ]
    }
   ],
   "source": [
    "import random\n",
    "flag = True\n",
    "while flag:\n",
    "    num = input(\"type a number for upper bound\")\n",
    "    if num.isdigit():\n",
    "        print(\"lets play !\")\n",
    "        num = int(num)\n",
    "        flag = False\n",
    "    else:\n",
    "        print(\"invalid input ! try again\")\n",
    "secret = random.randint(1,num)\n",
    "guess = None\n",
    "count = 1\n",
    "while guess != secret:\n",
    "    guess = input(\"Please type a random no between 1 and \" + str(num) + \" :\")\n",
    "    if guess.isdigit():\n",
    "        guess = int(guess)\n",
    "    if guess == secret:\n",
    "        print(\" you got it !\")\n",
    "    else:\n",
    "        print(\"Please try again !\")\n",
    "        count += 1\n",
    "print(\"it took you \", count , \"guesses\")"
   ]
  },
  {
   "cell_type": "code",
   "execution_count": null,
   "metadata": {},
   "outputs": [],
   "source": []
  }
 ],
 "metadata": {
  "kernelspec": {
   "display_name": "Python 3",
   "language": "python",
   "name": "python3"
  },
  "language_info": {
   "codemirror_mode": {
    "name": "ipython",
    "version": 3
   },
   "file_extension": ".py",
   "mimetype": "text/x-python",
   "name": "python",
   "nbconvert_exporter": "python",
   "pygments_lexer": "ipython3",
   "version": "3.7.4"
  }
 },
 "nbformat": 4,
 "nbformat_minor": 2
}
