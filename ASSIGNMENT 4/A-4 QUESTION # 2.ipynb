{
 "cells": [
  {
   "cell_type": "code",
   "execution_count": 1,
   "metadata": {},
   "outputs": [
    {
     "name": "stdout",
     "output_type": "stream",
     "text": [
      " * ENTER 1. TO USE OUR SOFTWARE 2. TO EXIT *1\n",
      " **** YOU ARE AUTHORIED TO USED OUR CITY DICTIONARY **\n",
      "{'islamabad': {'country': 'pakistan', 'population': '4 million', 'fact': 'world third beautiful city, and capital of pakistan'}, 'karachi': {'country': 'pakistan', 'population': '30 million', 'fact': 'city of lights, and economic hub of pakistan'}, 'mirpur': {'country': 'pakistan', 'population': '2 million', 'fact': 'known for its people who lives in uk also called mini birmingum of paksitan'}}\n",
      "{'country': 'pakistan', 'population': '4 million', 'fact': 'world third beautiful city, and capital of pakistan'}\n",
      "{'country': 'pakistan', 'population': '30 million', 'fact': 'city of lights, and economic hub of pakistan'}\n",
      "{'country': 'pakistan', 'population': '2 million', 'fact': 'known for its people who lives in uk also called mini birmingum of paksitan'}\n",
      "** THANK YOU FOR USING OUR SOFTWARE **\n"
     ]
    }
   ],
   "source": [
    "choice = input(\" * ENTER 1. TO USE OUR SOFTWARE 2. TO EXIT *\")\n",
    "if choice == '1': \n",
    "    print(\" **** YOU ARE AUTHORIED TO USED OUR CITY DICTIONARY **\")\n",
    "    cities = {\"islamabad\": \n",
    "              { \"country\":\"pakistan\", \n",
    "                \"population\":\"4 million\",\n",
    "                \"fact\": \"world third beautiful city, and capital of pakistan\",\n",
    "              },\n",
    "              \"karachi\":\n",
    "              { \"country\":\"pakistan\",\n",
    "                \"population\":\"30 million\",\n",
    "                \"fact\": \"city of lights, and economic hub of pakistan\",\n",
    "              },\n",
    "              \"mirpur\": \n",
    "              { \"country\":\"pakistan\", \n",
    "               \"population\":\"2 million\", \n",
    "               \"fact\": \"known for its people who lives in uk also called mini birmingum of paksitan\",\n",
    "              }, \n",
    "             }\n",
    "    print(cities) \n",
    "    print(cities[\"islamabad\"])\n",
    "    print(cities[\"karachi\"])\n",
    "    print(cities[\"mirpur\"]) \n",
    "else:\n",
    "    print(\"SORRY! YOU ARE NOT AUTHORIZED, PLEASE REGISTER YOURSELF FIRST\") \n",
    "print(\"** THANK YOU FOR USING OUR SOFTWARE **\")"
   ]
  },
  {
   "cell_type": "code",
   "execution_count": null,
   "metadata": {},
   "outputs": [],
   "source": []
  }
 ],
 "metadata": {
  "kernelspec": {
   "display_name": "Python 3",
   "language": "python",
   "name": "python3"
  },
  "language_info": {
   "codemirror_mode": {
    "name": "ipython",
    "version": 3
   },
   "file_extension": ".py",
   "mimetype": "text/x-python",
   "name": "python",
   "nbconvert_exporter": "python",
   "pygments_lexer": "ipython3",
   "version": "3.7.4"
  }
 },
 "nbformat": 4,
 "nbformat_minor": 2
}
