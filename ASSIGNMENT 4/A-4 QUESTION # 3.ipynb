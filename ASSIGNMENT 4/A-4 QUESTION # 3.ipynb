{
 "cells": [
  {
   "cell_type": "code",
   "execution_count": 2,
   "metadata": {},
   "outputs": [
    {
     "name": "stdout",
     "output_type": "stream",
     "text": [
      " *****************WELCOME TO OUR MOVIE THEATHER SOFTWARE ********************************\n",
      " ************* ENTER 1. TO USE OUR SOFTWARE 2. TO EXIT *********************1\n",
      " ******** YOU ARE AUTHORIED TO USED OUR DICTIONARY **********************\n",
      "PlEASE ENTER YOUR DESIRED AGE TO CHECK TICKET 2\n",
      "***CONGRATLZ ! YOU HAVE NO TICKET YOU CAN WATCH MOVIE FREE OF COST\n",
      "************** THANK YOU FOR USING OUR SOFTWARE **************************\n"
     ]
    }
   ],
   "source": [
    "print(\" *****************WELCOME TO OUR MOVIE THEATHER SOFTWARE ********************************\")\n",
    "choice = input(\" ************* ENTER 1. TO USE OUR SOFTWARE 2. TO EXIT *********************\")\n",
    "if choice == '1':\n",
    "    print(\" ******** YOU ARE AUTHORIED TO USED OUR DICTIONARY **********************\")\n",
    "    age = 0\n",
    "    age = int(input(\"PlEASE ENTER YOUR DESIRED AGE TO CHECK TICKET \"))\n",
    "    while age > 0:\n",
    "        middle_ticket = \"$10\"\n",
    "        higher_ticket = \"$15\"\n",
    "        if age < 3:\n",
    "            print(\"***CONGRATLZ ! YOU HAVE NO TICKET YOU CAN WATCH MOVIE FREE OF COST\")\n",
    "            break\n",
    "        elif age == 3 & age == 11:\n",
    "            print(\"YOUR TICKET FOR MOVIE IS \"+ middle_ticket)\n",
    "            break\n",
    "        else:\n",
    "            print(\"YOUR TICKET FOR MOVIE IS \"+ higher_ticket)\n",
    "            break\n",
    "            \n",
    "else:\n",
    "    print(\"SORRY! YOU ARE NOT AUTHORIZED, PLEASE REGISTER YOURSELF FIRST\")\n",
    "print(\"************** THANK YOU FOR USING OUR SOFTWARE **************************\")"
   ]
  },
  {
   "cell_type": "code",
   "execution_count": null,
   "metadata": {},
   "outputs": [],
   "source": []
  }
 ],
 "metadata": {
  "kernelspec": {
   "display_name": "Python 3",
   "language": "python",
   "name": "python3"
  },
  "language_info": {
   "codemirror_mode": {
    "name": "ipython",
    "version": 3
   },
   "file_extension": ".py",
   "mimetype": "text/x-python",
   "name": "python",
   "nbconvert_exporter": "python",
   "pygments_lexer": "ipython3",
   "version": "3.7.4"
  }
 },
 "nbformat": 4,
 "nbformat_minor": 2
}
