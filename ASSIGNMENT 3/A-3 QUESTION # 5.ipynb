{
 "cells": [
  {
   "cell_type": "code",
   "execution_count": 37,
   "metadata": {},
   "outputs": [
    {
     "name": "stdout",
     "output_type": "stream",
     "text": [
      "**********      WELCOME TO OUR SOFTWARE*************\n",
      "PLEASE ENTER 1. TO USE PROGRAM 2. TO EXIT1\n",
      "YOU ARE SUCCESSFULLY LOGGED IN:\n",
      "aabbccddaabb *****IS LIST IN COMBINED FORM******\n",
      "**NOW WE WILL EXTRACT EACH ELEMENT OF LIST AND THEN CHECK THE DUPLICATES***\n",
      "ALERT! FIRST VALUES IS MATCHED AND IT IS:::: aa\n",
      "ALERT! SECOND VALUES IS MATCHED AND IT IS:::: bb\n",
      "**********GOOD BYE! THANKS FOR USING OUR SOFTWARE******\n"
     ]
    }
   ],
   "source": [
    "print(\"**********      WELCOME TO OUR SOFTWARE*************\")\n",
    "choice = input(\"PLEASE ENTER 1. TO USE PROGRAM 2. TO EXIT\")\n",
    "if choice == '1':\n",
    "    print(\"YOU ARE SUCCESSFULLY LOGGED IN:\")\n",
    "    dup_list = (\"aa\",\"bb\",\"cc\",\"dd\",\"aa\",\"bb\")\n",
    "    val1 = dup_list[0]\n",
    "    val2 = dup_list[1]\n",
    "    val3 = dup_list[2]\n",
    "    val4 = dup_list[3]\n",
    "    val5 = dup_list[4]\n",
    "    val6 = dup_list[5]\n",
    "    print(val1 + val2 + val3 + val4 + val5 + val6,\"*****IS LIST IN COMBINED FORM******\")\n",
    "    print(\"**NOW WE WILL EXTRACT EACH ELEMENT OF LIST AND THEN CHECK THE DUPLICATES***\")\n",
    "    if (val1 == val5) & (val2 == val6):\n",
    "        print(\"ALERT! FIRST VALUES IS MATCHED AND IT IS::::\", val1)\n",
    "        print(\"ALERT! SECOND VALUES IS MATCHED AND IT IS::::\", val2)\n",
    "    else:\n",
    "        print(\"***NO MATCH OF VALUES IS FOUND\")\n",
    "else:\n",
    "    print(\"****SORRY YOU DID NOT MAKE THE RIGHT SELECITON*****\")\n",
    "print(\"**********GOOD BYE! THANKS FOR USING OUR SOFTWARE******\")"
   ]
  },
  {
   "cell_type": "code",
   "execution_count": null,
   "metadata": {},
   "outputs": [],
   "source": []
  }
 ],
 "metadata": {
  "kernelspec": {
   "display_name": "Python 3",
   "language": "python",
   "name": "python3"
  },
  "language_info": {
   "codemirror_mode": {
    "name": "ipython",
    "version": 3
   },
   "file_extension": ".py",
   "mimetype": "text/x-python",
   "name": "python",
   "nbconvert_exporter": "python",
   "pygments_lexer": "ipython3",
   "version": "3.7.4"
  }
 },
 "nbformat": 4,
 "nbformat_minor": 2
}
