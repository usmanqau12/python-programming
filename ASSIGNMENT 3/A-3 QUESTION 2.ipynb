{
 "cells": [
  {
   "cell_type": "code",
   "execution_count": 1,
   "metadata": {},
   "outputs": [
    {
     "name": "stdout",
     "output_type": "stream",
     "text": [
      "*********WELCOME TO OUR NUMERICAL TESTING PROGRAM******************\n",
      "*****************PLEASE MAKE YOUR CHOICE***************************\n",
      "***PLEASE GIVE 1 TO USE OUR PROGRAM AND 2 TO EXIT ********1\n",
      " *** YOU MADE THE CORRECT CHOICE*****\n",
      "SORRY THERE IS NO NUMERICAL VALUE IN YOUR LIST\n",
      "SORRY THERE IS NO NUMERICAL VALUE IN YOUR LIST\n",
      "SORRY THERE IS NO NUMERICAL VALUE IN YOUR LIST\n",
      "*********SEARCHING IN LIST, PLEASE WAIT***********\n",
      "*****WE FOUND SOME NUMERICAL VALUES IN YOUR DESIRED LIST\n",
      "20 NUMERICAL VALUE IS FOUND IN YOUR LIST\n",
      "********************THANK YOU FOR USING OUR PROGRAM******************\n"
     ]
    }
   ],
   "source": [
    "print(\"*********WELCOME TO OUR NUMERICAL TESTING PROGRAM******************\")\n",
    "print(\"*****************PLEASE MAKE YOUR CHOICE***************************\")\n",
    "choice = input(\"***PLEASE GIVE 1 TO USE OUR PROGRAM AND 2 TO EXIT ********\")\n",
    "if choice == '1':\n",
    "    print(\" *** YOU MADE THE CORRECT CHOICE*****\")\n",
    "    mixed_list = [\"usman\",\"islamabad\", \"python\", 20, 20.4]\n",
    "    for num_list in mixed_list:\n",
    "        if num_list == 20:\n",
    "            print(\"*********SEARCHING IN LIST, PLEASE WAIT***********\")\n",
    "            print(\"*****WE FOUND SOME NUMERICAL VALUES IN YOUR DESIRED LIST\")\n",
    "            print(num_list,\"NUMERICAL VALUE IS FOUND IN YOUR LIST\")\n",
    "            break\n",
    "        else:\n",
    "            print(\"SORRY THERE IS NO NUMERICAL VALUE IN YOUR LIST\")\n",
    "        \n",
    "else:\n",
    "    print(\"*** SORRY! YOU MAKE THE WRONG CHOICE***\")\n",
    "print(\"********************THANK YOU FOR USING OUR PROGRAM******************\")"
   ]
  },
  {
   "cell_type": "code",
   "execution_count": null,
   "metadata": {},
   "outputs": [],
   "source": []
  }
 ],
 "metadata": {
  "kernelspec": {
   "display_name": "Python 3",
   "language": "python",
   "name": "python3"
  },
  "language_info": {
   "codemirror_mode": {
    "name": "ipython",
    "version": 3
   },
   "file_extension": ".py",
   "mimetype": "text/x-python",
   "name": "python",
   "nbconvert_exporter": "python",
   "pygments_lexer": "ipython3",
   "version": "3.7.4"
  }
 },
 "nbformat": 4,
 "nbformat_minor": 2
}
