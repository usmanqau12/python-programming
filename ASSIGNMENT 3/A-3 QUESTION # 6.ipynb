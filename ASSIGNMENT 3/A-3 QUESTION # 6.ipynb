{
 "cells": [
  {
   "cell_type": "code",
   "execution_count": 29,
   "metadata": {},
   "outputs": [
    {
     "name": "stdout",
     "output_type": "stream",
     "text": [
      "**********      WELCOME TO OUR SOFTWARE*************\n",
      "PLEASE ENTER 1. TO USE PROGRAM 2. TO EXIT1\n",
      "we found the first key\n",
      "we found the second key\n",
      "we found the third key\n",
      "we found the repeated key\n",
      "400  is repeated key value\n",
      "**********GOOD BYE! THANKS FOR USING OUR SOFTWARE******\n"
     ]
    }
   ],
   "source": [
    "print(\"**********      WELCOME TO OUR SOFTWARE*************\")\n",
    "choice = input(\"PLEASE ENTER 1. TO USE PROGRAM 2. TO EXIT\")\n",
    "if choice == '1':\n",
    "    mixed_dict = {\"1\": '200',\n",
    "                  \"2\": '300',\n",
    "                  \"3\": '150',\n",
    "                  \"1\": '400'}\n",
    "    val1_key = mixed_dict.get('1')\n",
    "    c_val1 = int(val1_key)\n",
    "    print(\"we found the first key\")\n",
    "    if c_val1 ==1:\n",
    "        print(\" first if is checked\")\n",
    "    val1_key = mixed_dict.get('2')\n",
    "    print(\"we found the second key\")\n",
    "    val1_key = mixed_dict.get('3')\n",
    "    print(\"we found the third key\")\n",
    "    val1_key = mixed_dict.get('1')\n",
    "    print(\"we found the repeated key\")\n",
    "    print(val1_key,\" is repeated key value\")\n",
    "\n",
    "else:\n",
    "    print(\"****SORRY YOU DID NOT MAKE THE RIGHT SELECITON*****\")\n",
    "print(\"**********GOOD BYE! THANKS FOR USING OUR SOFTWARE******\")"
   ]
  },
  {
   "cell_type": "code",
   "execution_count": null,
   "metadata": {},
   "outputs": [],
   "source": []
  }
 ],
 "metadata": {
  "kernelspec": {
   "display_name": "Python 3",
   "language": "python",
   "name": "python3"
  },
  "language_info": {
   "codemirror_mode": {
    "name": "ipython",
    "version": 3
   },
   "file_extension": ".py",
   "mimetype": "text/x-python",
   "name": "python",
   "nbconvert_exporter": "python",
   "pygments_lexer": "ipython3",
   "version": "3.7.4"
  }
 },
 "nbformat": 4,
 "nbformat_minor": 2
}
