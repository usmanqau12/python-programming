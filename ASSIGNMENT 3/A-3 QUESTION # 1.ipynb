{
 "cells": [
  {
   "cell_type": "code",
   "execution_count": 9,
   "metadata": {},
   "outputs": [
    {
     "name": "stdout",
     "output_type": "stream",
     "text": [
      "**********      WELCOME TO OUR SOFTWARE*************\n",
      "PLEASE ENTER 1. TO USE PROGRAM 2. TO EXIT1\n",
      "**YOU ARE SUCESFULLY LOGGED ON\n",
      "ENTER YOUR DESIRED OPERATOR\n",
      "PLEASE ENTER FIRST VALUE2\n",
      "PLEASE ENTER SECOND VALUE4\n",
      "ENTER YOUR DESIRED OPERATOR^\n",
      "16 IS YOUR ANSWER\n",
      "*****THAKS FOR USING OUR CALCULATOR**************\n"
     ]
    }
   ],
   "source": [
    "print(\"**********      WELCOME TO OUR SOFTWARE*************\")\n",
    "choice = input(\"PLEASE ENTER 1. TO USE PROGRAM 2. TO EXIT\")\n",
    "if choice == '1':\n",
    "    print(\"**YOU ARE SUCESFULLY LOGGED ON\")\n",
    "    print(\"ENTER YOUR DESIRED OPERATOR\")\n",
    "    val1 = input(\"PLEASE ENTER FIRST VALUE\")\n",
    "    val2 = input(\"PLEASE ENTER SECOND VALUE\")\n",
    "    operator = input(\"ENTER YOUR DESIRED OPERATOR\")\n",
    "    con_val1 = int(val1)\n",
    "    con_val2 = int(val2)\n",
    "    if operator == '+':\n",
    "        result = con_val1 + con_val2\n",
    "        print(result,'IS YOUR ANSWER')\n",
    "    elif operator == '-':\n",
    "        result = con_val1 - con_val2\n",
    "        print(result,'IS YOUR ANSWER')\n",
    "    elif operator =='*':\n",
    "        result = con_val1 * con_val2\n",
    "        print(result,'IS YOUR ANSWER')\n",
    "    elif operator == '/':\n",
    "        result = con_val1 / con_val2\n",
    "        print(result,'IS YOUR ANSWER')\n",
    "    elif operator == '^':\n",
    "        result =pow(con_val1, con_val2)\n",
    "        print(result,'IS YOUR ANSWER')\n",
    "else:\n",
    "    print(\"***PLEASE ENTER CORRECT OPERATOR****\")\n",
    "print(\"*****THAKS FOR USING OUR CALCULATOR**************\")\n",
    "    "
   ]
  },
  {
   "cell_type": "code",
   "execution_count": null,
   "metadata": {},
   "outputs": [],
   "source": []
  },
  {
   "cell_type": "code",
   "execution_count": null,
   "metadata": {},
   "outputs": [],
   "source": []
  }
 ],
 "metadata": {
  "kernelspec": {
   "display_name": "Python 3",
   "language": "python",
   "name": "python3"
  },
  "language_info": {
   "codemirror_mode": {
    "name": "ipython",
    "version": 3
   },
   "file_extension": ".py",
   "mimetype": "text/x-python",
   "name": "python",
   "nbconvert_exporter": "python",
   "pygments_lexer": "ipython3",
   "version": "3.7.4"
  }
 },
 "nbformat": 4,
 "nbformat_minor": 2
}
