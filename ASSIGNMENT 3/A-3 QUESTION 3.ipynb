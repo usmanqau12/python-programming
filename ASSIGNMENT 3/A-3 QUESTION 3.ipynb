{
 "cells": [
  {
   "cell_type": "code",
   "execution_count": 1,
   "metadata": {},
   "outputs": [
    {
     "name": "stdout",
     "output_type": "stream",
     "text": [
      " *****WELCOME TO OUR NEW USER REGISTERATION DICTIONARY FORM ******* \n",
      "*******please enter 1. to use 2. to exit our program*******1\n",
      "****YOU ARE AUTHORIZED, PLEASE SIGN UP AND FILL UP THE FORM*****\n",
      "Login details are ! first name is :muhammad\n",
      "Login details are ! last name is :usman awan\n",
      "Login details are ! age is :20\n",
      "Login details are ! DOB is :1998\n",
      "Login details are ! city is :islamabad\n",
      "Login details are ! country is :pakistan\n",
      "Login details are ! gender is :male\n",
      "Login details are ! qualification is :graduatiino\n",
      "Login details are ! Mobile no is :03341234567\n",
      "Login details are ! email address is :usman.qau12@gmail.com\n",
      "Login details are ! religion is :islam\n",
      "Login details are ! password is :1234\n",
      "Login details are ! confirm password is :1234\n",
      "Login details are ! province is :punjab\n",
      "Login details are ! residential city is :rawalpindi\n",
      "*********** THANK YOU FOR USING OUR SOFTWARE . GOOD BYE!\n"
     ]
    }
   ],
   "source": [
    "print(\" *****WELCOME TO OUR NEW USER REGISTERATION DICTIONARY FORM ******* \")\n",
    "choice = input(\"*******please enter 1. to use 2. to exit our program*******\")\n",
    "#here we will present user interface to user to make selection \n",
    "if choice == '1':\n",
    "    print(\"****YOU ARE AUTHORIZED, PLEASE SIGN UP AND FILL UP THE FORM*****\")\n",
    "    # here we have declared dictionary for signup form to get all user details\n",
    "    signup_form = {\"first name\":\"muhammad\",\n",
    "                   \"last name\":\"usman awan\",\n",
    "                   \"age\":\"20\",\n",
    "                   \"DOB\":\"1998\",\n",
    "                   \"city\":\"islamabad\",\n",
    "                   \"country\":\"pakistan\",\n",
    "                   \"gender\":\"male\",\n",
    "                   \"qualification\":\"graduatiino\",\n",
    "                   \"Mobile no\":\"03341234567\",\n",
    "                   \"email address\":\"usman.qau12@gmail.com\",\n",
    "                   \"religion\":\"islam\"}\n",
    "    # here we will add items in dictionary which is key value pair\n",
    "    signup_form[\"password\"]=\"1234\"\n",
    "    signup_form[\"confirm password\"] =\"1234\"\n",
    "    signup_form[\"province\"] = \"punjab\"\n",
    "    signup_form[\"residential city\"] = \"rawalpindi\"\n",
    "    # we will get all the items form first dictionary both the keys and values\n",
    "    for display_form_key, display_form_value in signup_form.items():\n",
    "        print(\"Login details are ! \"+ display_form_key + \" is :\" + display_form_value)\n",
    "else:\n",
    "    print(\"SORRY. YOU ARE NOT AUTHORIZED PLEASE REGISTER YOUR SELF FIRST\")\n",
    "print(\"*********** THANK YOU FOR USING OUR SOFTWARE . GOOD BYE!\")"
   ]
  },
  {
   "cell_type": "code",
   "execution_count": null,
   "metadata": {},
   "outputs": [],
   "source": []
  }
 ],
 "metadata": {
  "kernelspec": {
   "display_name": "Python 3",
   "language": "python",
   "name": "python3"
  },
  "language_info": {
   "codemirror_mode": {
    "name": "ipython",
    "version": 3
   },
   "file_extension": ".py",
   "mimetype": "text/x-python",
   "name": "python",
   "nbconvert_exporter": "python",
   "pygments_lexer": "ipython3",
   "version": "3.7.4"
  }
 },
 "nbformat": 4,
 "nbformat_minor": 2
}
