{
 "cells": [
  {
   "cell_type": "code",
   "execution_count": 8,
   "metadata": {},
   "outputs": [
    {
     "name": "stdout",
     "output_type": "stream",
     "text": [
      "**********      WELCOME TO OUR SOFTWARE*************\n",
      "PLEASE ENTER 1. TO USE PROGRAM 2. TO EXIT1\n",
      "200\n",
      "300\n",
      "150\n",
      "400\n",
      "1050  IS THE TOTAL BILL OF ALL ITEMS\n",
      "**********GOOD BYE! THANKS FOR USING OUR SOFTWARE******\n"
     ]
    }
   ],
   "source": [
    "print(\"**********      WELCOME TO OUR SOFTWARE*************\")\n",
    "choice = input(\"PLEASE ENTER 1. TO USE PROGRAM 2. TO EXIT\")\n",
    "if choice == '1':\n",
    "    mobile_acesory_prices = {\"1\": 200, \n",
    "                             \"2\": 300,\n",
    "                             \"3\": 150,\n",
    "                             \"4\": 400}\n",
    "    val1 = mobile_acesory_prices.get(\"1\")\n",
    "    val2 = mobile_acesory_prices.get(\"2\")\n",
    "    val3 = mobile_acesory_prices.get(\"3\")\n",
    "    val4 = mobile_acesory_prices.get(\"4\")\n",
    "    c_val1 = int(val1)\n",
    "    c_val2 = int(val2)\n",
    "    c_val3 = int(val3)\n",
    "    c_val4 = int(val4)\n",
    "    print(c_val1)\n",
    "    print(c_val2)\n",
    "    print(c_val3)\n",
    "    print(c_val4)\n",
    "    sum = c_val1 + c_val2 + c_val3 + c_val4\n",
    "    print(sum ,\" IS THE TOTAL BILL OF ALL ITEMS\")\n",
    "else:\n",
    "    print(\"****SORRY YOU DID NOT MAKE THE RIGHT SELECITON*****\")\n",
    "print(\"**********GOOD BYE! THANKS FOR USING OUR SOFTWARE******\")"
   ]
  },
  {
   "cell_type": "code",
   "execution_count": null,
   "metadata": {},
   "outputs": [],
   "source": []
  }
 ],
 "metadata": {
  "kernelspec": {
   "display_name": "Python 3",
   "language": "python",
   "name": "python3"
  },
  "language_info": {
   "codemirror_mode": {
    "name": "ipython",
    "version": 3
   },
   "file_extension": ".py",
   "mimetype": "text/x-python",
   "name": "python",
   "nbconvert_exporter": "python",
   "pygments_lexer": "ipython3",
   "version": "3.7.4"
  }
 },
 "nbformat": 4,
 "nbformat_minor": 2
}
