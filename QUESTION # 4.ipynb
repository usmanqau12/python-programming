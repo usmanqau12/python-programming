{
 "cells": [
  {
   "cell_type": "code",
   "execution_count": 1,
   "metadata": {},
   "outputs": [
    {
     "name": "stdout",
     "output_type": "stream",
     "text": [
      "******************WELCOEM TO OUR PROGRAM***************\n",
      " ********WE WIL CALCULATE THE RADIUS OF CIRCLE ********\n",
      "******PLEASE ENTER RADIUS OF CIRCLE******4\n",
      "AREA OF CIRCLE IS =  50.24\n",
      " ********THANKU FOR USING OUR PROGRAM ********\n"
     ]
    }
   ],
   "source": [
    "print(\"******************WELCOEM TO OUR PROGRAM***************\")\n",
    "print(\" ********WE WIL CALCULATE THE RADIUS OF CIRCLE ********\")\n",
    "PI = 3.14\n",
    "radius = float(input(\"******PLEASE ENTER RADIUS OF CIRCLE******\"))\n",
    "area = PI * radius * radius\n",
    "print(\"AREA OF CIRCLE IS = \", area)\n",
    "print(\" ********THANKU FOR USING OUR PROGRAM ********\")"
   ]
  },
  {
   "cell_type": "code",
   "execution_count": null,
   "metadata": {},
   "outputs": [],
   "source": []
  }
 ],
 "metadata": {
  "kernelspec": {
   "display_name": "Python 3",
   "language": "python",
   "name": "python3"
  },
  "language_info": {
   "codemirror_mode": {
    "name": "ipython",
    "version": 3
   },
   "file_extension": ".py",
   "mimetype": "text/x-python",
   "name": "python",
   "nbconvert_exporter": "python",
   "pygments_lexer": "ipython3",
   "version": "3.7.4"
  }
 },
 "nbformat": 4,
 "nbformat_minor": 2
}
