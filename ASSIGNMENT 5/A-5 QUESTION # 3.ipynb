{
 "cells": [
  {
   "cell_type": "code",
   "execution_count": 2,
   "metadata": {},
   "outputs": [
    {
     "name": "stdout",
     "output_type": "stream",
     "text": [
      "***** WELCOME TO OUR EVEN NO LIST FINDER SOFTWARE *******\n",
      "Please enter the Total Number of List Elements: 2\n",
      "Please enter the Value of 1 Element : 1\n",
      "Please enter the Value of 2 Element : 2\n",
      "\n",
      "Even Numbers in this List are : \n",
      "2   ***** \n",
      "THANKU FOR UISNG OUR EVEN NO FINDER  SOFTWARE *******\n"
     ]
    }
   ],
   "source": [
    "print(\"***** WELCOME TO OUR EVEN NO LIST FINDER SOFTWARE *******\")\n",
    "\n",
    "def even_no_func(noList):\n",
    "    for j in range(Number):\n",
    "        if(noList[j] % 2 == 0):\n",
    "            print(noList[j], end = '   ')\n",
    "\n",
    "      \n",
    "noList = []\n",
    "Number = int(input(\"Please enter the Total Number of List Elements: \"))\n",
    "for i in range(1, Number + 1):\n",
    "    value = int(input(\"Please enter the Value of %d Element : \" %i))\n",
    "    noList.append(value)\n",
    "\n",
    "print(\"\\nEven Numbers in this List are : \")\n",
    "even_no_func(noList)\n",
    "print(\"***** \\nTHANKU FOR UISNG OUR EVEN NO FINDER  SOFTWARE *******\")\n"
   ]
  },
  {
   "cell_type": "code",
   "execution_count": null,
   "metadata": {},
   "outputs": [],
   "source": []
  }
 ],
 "metadata": {
  "kernelspec": {
   "display_name": "Python 3",
   "language": "python",
   "name": "python3"
  },
  "language_info": {
   "codemirror_mode": {
    "name": "ipython",
    "version": 3
   },
   "file_extension": ".py",
   "mimetype": "text/x-python",
   "name": "python",
   "nbconvert_exporter": "python",
   "pygments_lexer": "ipython3",
   "version": "3.7.4"
  }
 },
 "nbformat": 4,
 "nbformat_minor": 2
}
