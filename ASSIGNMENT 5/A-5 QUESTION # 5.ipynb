{
 "cells": [
  {
   "cell_type": "code",
   "execution_count": 4,
   "metadata": {},
   "outputs": [
    {
     "name": "stdout",
     "output_type": "stream",
     "text": [
      " ******* WELCOME TO OUR PRIME NO CALCULATOR SOFTWARE *********\n",
      "please input a number of your choice 5\n",
      "True\n",
      " ******* THANK YOU FOR USING OUR CALCULATOR SOFTWARE *********\n"
     ]
    }
   ],
   "source": [
    "print(\" ******* WELCOME TO OUR PRIME NO CALCULATOR SOFTWARE *********\")\n",
    "def prime_no(number):\n",
    "    if (number==1):\n",
    "        return False\n",
    "    elif (number==2):\n",
    "        return True;\n",
    "    else:\n",
    "        for x in range(2,number):\n",
    "            if(number % x==0):\n",
    "                return False\n",
    "        return True             \n",
    "print(prime_no(int(input(\"please input a number of your choice \"))))\n",
    "print(\" ******* THANK YOU FOR USING OUR CALCULATOR SOFTWARE *********\")"
   ]
  },
  {
   "cell_type": "code",
   "execution_count": null,
   "metadata": {},
   "outputs": [],
   "source": []
  },
  {
   "cell_type": "code",
   "execution_count": null,
   "metadata": {},
   "outputs": [],
   "source": []
  }
 ],
 "metadata": {
  "kernelspec": {
   "display_name": "Python 3",
   "language": "python",
   "name": "python3"
  },
  "language_info": {
   "codemirror_mode": {
    "name": "ipython",
    "version": 3
   },
   "file_extension": ".py",
   "mimetype": "text/x-python",
   "name": "python",
   "nbconvert_exporter": "python",
   "pygments_lexer": "ipython3",
   "version": "3.7.4"
  }
 },
 "nbformat": 4,
 "nbformat_minor": 2
}
