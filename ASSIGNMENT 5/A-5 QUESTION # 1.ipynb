{
 "cells": [
  {
   "cell_type": "code",
   "execution_count": 3,
   "metadata": {},
   "outputs": [
    {
     "name": "stdout",
     "output_type": "stream",
     "text": [
      "********** WELCOME TO OUR FACTORIAL SOFTWARE **************\n",
      "Please enter No of your choice: 2\n",
      "Factorial of 2 is:  2\n",
      "********** THANKU FOR USING OUR FACTORIAL SOFTWARE **************\n"
     ]
    }
   ],
   "source": [
    "print(\"********** WELCOME TO OUR FACTORIAL SOFTWARE **************\")\n",
    "def fact_func(no):\n",
    "    \"\"\"This is a recursive function that calls\n",
    "   itself to find the factorial of given number\"\"\"\n",
    "    if no == 1:\n",
    "        return no\n",
    "    else:\n",
    "        return no * fact_func(no - 1)\n",
    "\n",
    "\n",
    "# We will find the factorial of this number\n",
    "no = int(input(\"Please enter No of your choice: \"))\n",
    "\n",
    "# if input number is negative then return an error message\n",
    "# elif the input number is 0 then display 1 as output\n",
    "# else calculate the factorial by calling the user defined function\n",
    "if no < 0:\n",
    "    print(\"Factorial cannot be found for negative numbers\")\n",
    "elif no == 0:\n",
    "    print(\"Factorial of 0 is 1\")\n",
    "else:\n",
    "    print(\"Factorial of\", no, \"is: \", fact_func(no))\n",
    "print(\"********** THANKU FOR USING OUR FACTORIAL SOFTWARE **************\")"
   ]
  },
  {
   "cell_type": "code",
   "execution_count": null,
   "metadata": {},
   "outputs": [],
   "source": []
  }
 ],
 "metadata": {
  "kernelspec": {
   "display_name": "Python 3",
   "language": "python",
   "name": "python3"
  },
  "language_info": {
   "codemirror_mode": {
    "name": "ipython",
    "version": 3
   },
   "file_extension": ".py",
   "mimetype": "text/x-python",
   "name": "python",
   "nbconvert_exporter": "python",
   "pygments_lexer": "ipython3",
   "version": "3.7.4"
  }
 },
 "nbformat": 4,
 "nbformat_minor": 2
}
