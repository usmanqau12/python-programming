{
 "cells": [
  {
   "cell_type": "code",
   "execution_count": 10,
   "metadata": {},
   "outputs": [
    {
     "name": "stdout",
     "output_type": "stream",
     "text": [
      "9  ** UPPER CASE LETTERS ARE FOUND**\n",
      " 39 ** lower case are found **\n"
     ]
    }
   ],
   "source": [
    "def count_uc_lc(string):\n",
    "    lc_letter_count = 0\n",
    "    uc_letter_count = 0\n",
    "\n",
    "    for letter in string:\n",
    "        if letter.isupper():\n",
    "            uc_letter_count += 1\n",
    "            #print(uppercase_letter_count)\n",
    "        elif letter.islower():\n",
    "            lc_letter_count += 1\n",
    "            #print(lowercase_letter_count)\n",
    "\n",
    "    print (uc_letter_count ,\" ** UPPER CASE LETTERS ARE FOUND**\\n\",lc_letter_count , \"** lower case are found **\")\n",
    " \n",
    "\n",
    "count_upper_lower(\"ThankYou Saylani and Sir Ali For Making us Python Experts\")"
   ]
  },
  {
   "cell_type": "code",
   "execution_count": null,
   "metadata": {},
   "outputs": [],
   "source": []
  }
 ],
 "metadata": {
  "kernelspec": {
   "display_name": "Python 3",
   "language": "python",
   "name": "python3"
  },
  "language_info": {
   "codemirror_mode": {
    "name": "ipython",
    "version": 3
   },
   "file_extension": ".py",
   "mimetype": "text/x-python",
   "name": "python",
   "nbconvert_exporter": "python",
   "pygments_lexer": "ipython3",
   "version": "3.7.4"
  }
 },
 "nbformat": 4,
 "nbformat_minor": 2
}
